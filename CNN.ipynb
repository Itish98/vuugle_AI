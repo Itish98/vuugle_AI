{
 "cells": [
  {
   "cell_type": "code",
   "execution_count": 1,
   "id": "b582a2e2",
   "metadata": {},
   "outputs": [
    {
     "name": "stderr",
     "output_type": "stream",
     "text": [
      "2022-11-21 15:56:07.108437: I tensorflow/core/platform/cpu_feature_guard.cc:193] This TensorFlow binary is optimized with oneAPI Deep Neural Network Library (oneDNN) to use the following CPU instructions in performance-critical operations:  AVX2 FMA\n",
      "To enable them in other operations, rebuild TensorFlow with the appropriate compiler flags.\n",
      "2022-11-21 15:56:08.199210: E tensorflow/stream_executor/cuda/cuda_blas.cc:2981] Unable to register cuBLAS factory: Attempting to register factory for plugin cuBLAS when one has already been registered\n",
      "2022-11-21 15:56:12.600967: W tensorflow/stream_executor/platform/default/dso_loader.cc:64] Could not load dynamic library 'libnvinfer.so.7'; dlerror: libnvinfer.so.7: cannot open shared object file: No such file or directory\n",
      "2022-11-21 15:56:12.601039: W tensorflow/stream_executor/platform/default/dso_loader.cc:64] Could not load dynamic library 'libnvinfer_plugin.so.7'; dlerror: libnvinfer_plugin.so.7: cannot open shared object file: No such file or directory\n",
      "2022-11-21 15:56:12.601047: W tensorflow/compiler/tf2tensorrt/utils/py_utils.cc:38] TF-TRT Warning: Cannot dlopen some TensorRT libraries. If you would like to use Nvidia GPU with TensorRT, please make sure the missing libraries mentioned above are installed properly.\n"
     ]
    }
   ],
   "source": [
    "import numpy as np\n",
    "%matplotlib inline\n",
    "import matplotlib.image as mpimg\n",
    "import matplotlib.pyplot as plt\n",
    "import tensorflow as tf\n",
    "tf.compat.v1.set_random_seed(2019)"
   ]
  },
  {
   "cell_type": "code",
   "execution_count": 2,
   "id": "bca45dae",
   "metadata": {},
   "outputs": [
    {
     "name": "stderr",
     "output_type": "stream",
     "text": [
      "2022-11-21 15:56:20.338794: E tensorflow/stream_executor/cuda/cuda_driver.cc:265] failed call to cuInit: CUDA_ERROR_NO_DEVICE: no CUDA-capable device is detected\n",
      "2022-11-21 15:56:20.338833: I tensorflow/stream_executor/cuda/cuda_diagnostics.cc:156] kernel driver does not appear to be running on this host (itish-HP-Pavilion-Gaming-Laptop-15-dk1xxx): /proc/driver/nvidia/version does not exist\n",
      "2022-11-21 15:56:20.339378: I tensorflow/core/platform/cpu_feature_guard.cc:193] This TensorFlow binary is optimized with oneAPI Deep Neural Network Library (oneDNN) to use the following CPU instructions in performance-critical operations:  AVX2 FMA\n",
      "To enable them in other operations, rebuild TensorFlow with the appropriate compiler flags.\n"
     ]
    }
   ],
   "source": [
    "model = tf.keras.models.Sequential([\n",
    "    tf.keras.layers.Conv2D(16,(3,3),activation = \"relu\" , input_shape = (180,180,3)) ,\n",
    "    tf.keras.layers.MaxPooling2D(2,2),\n",
    "    tf.keras.layers.Conv2D(32,(3,3),activation = \"relu\") ,  \n",
    "    tf.keras.layers.MaxPooling2D(2,2),\n",
    "    tf.keras.layers.Conv2D(64,(3,3),activation = \"relu\") ,  \n",
    "    tf.keras.layers.MaxPooling2D(2,2),\n",
    "    tf.keras.layers.Conv2D(128,(3,3),activation = \"relu\"),  \n",
    "    tf.keras.layers.MaxPooling2D(2,2),\n",
    "    tf.keras.layers.Flatten(), \n",
    "    tf.keras.layers.Dense(550,activation=\"relu\"),      #Adding the Hidden layer\n",
    "    tf.keras.layers.Dropout(0.1,seed = 2019),\n",
    "    tf.keras.layers.Dense(400,activation =\"relu\"),\n",
    "    tf.keras.layers.Dropout(0.3,seed = 2019),\n",
    "    tf.keras.layers.Dense(300,activation=\"relu\"),\n",
    "    tf.keras.layers.Dropout(0.4,seed = 2019),\n",
    "    tf.keras.layers.Dense(200,activation =\"relu\"),\n",
    "    tf.keras.layers.Dropout(0.2,seed = 2019),\n",
    "    tf.keras.layers.Dense(7,activation = \"softmax\")   #Adding the Output Layer\n",
    "])"
   ]
  },
  {
   "cell_type": "code",
   "execution_count": 3,
   "id": "d8c68e54",
   "metadata": {},
   "outputs": [
    {
     "name": "stdout",
     "output_type": "stream",
     "text": [
      "Model: \"sequential\"\n",
      "_________________________________________________________________\n",
      " Layer (type)                Output Shape              Param #   \n",
      "=================================================================\n",
      " conv2d (Conv2D)             (None, 178, 178, 16)      448       \n",
      "                                                                 \n",
      " max_pooling2d (MaxPooling2D  (None, 89, 89, 16)       0         \n",
      " )                                                               \n",
      "                                                                 \n",
      " conv2d_1 (Conv2D)           (None, 87, 87, 32)        4640      \n",
      "                                                                 \n",
      " max_pooling2d_1 (MaxPooling  (None, 43, 43, 32)       0         \n",
      " 2D)                                                             \n",
      "                                                                 \n",
      " conv2d_2 (Conv2D)           (None, 41, 41, 64)        18496     \n",
      "                                                                 \n",
      " max_pooling2d_2 (MaxPooling  (None, 20, 20, 64)       0         \n",
      " 2D)                                                             \n",
      "                                                                 \n",
      " conv2d_3 (Conv2D)           (None, 18, 18, 128)       73856     \n",
      "                                                                 \n",
      " max_pooling2d_3 (MaxPooling  (None, 9, 9, 128)        0         \n",
      " 2D)                                                             \n",
      "                                                                 \n",
      " flatten (Flatten)           (None, 10368)             0         \n",
      "                                                                 \n",
      " dense (Dense)               (None, 550)               5702950   \n",
      "                                                                 \n",
      " dropout (Dropout)           (None, 550)               0         \n",
      "                                                                 \n",
      " dense_1 (Dense)             (None, 400)               220400    \n",
      "                                                                 \n",
      " dropout_1 (Dropout)         (None, 400)               0         \n",
      "                                                                 \n",
      " dense_2 (Dense)             (None, 300)               120300    \n",
      "                                                                 \n",
      " dropout_2 (Dropout)         (None, 300)               0         \n",
      "                                                                 \n",
      " dense_3 (Dense)             (None, 200)               60200     \n",
      "                                                                 \n",
      " dropout_3 (Dropout)         (None, 200)               0         \n",
      "                                                                 \n",
      " dense_4 (Dense)             (None, 7)                 1407      \n",
      "                                                                 \n",
      "=================================================================\n",
      "Total params: 6,202,697\n",
      "Trainable params: 6,202,697\n",
      "Non-trainable params: 0\n",
      "_________________________________________________________________\n"
     ]
    }
   ],
   "source": [
    "model.summary()\n"
   ]
  },
  {
   "cell_type": "code",
   "execution_count": 4,
   "id": "ab8c5ad4",
   "metadata": {},
   "outputs": [
    {
     "name": "stderr",
     "output_type": "stream",
     "text": [
      "/usr/local/lib/python3.10/dist-packages/keras/optimizers/optimizer_v2/adam.py:114: UserWarning: The `lr` argument is deprecated, use `learning_rate` instead.\n",
      "  super().__init__(name, **kwargs)\n"
     ]
    }
   ],
   "source": [
    "from tensorflow.keras.optimizers import RMSprop,SGD,Adam\n",
    "adam=Adam(lr=0.001)\n",
    "model.compile(optimizer='adam', loss='categorical_crossentropy', metrics = ['acc'])"
   ]
  },
  {
   "cell_type": "code",
   "execution_count": 5,
   "id": "a584e19e",
   "metadata": {},
   "outputs": [
    {
     "name": "stdout",
     "output_type": "stream",
     "text": [
      "Found 168 images belonging to 7 classes.\n",
      "Found 168 images belonging to 7 classes.\n"
     ]
    }
   ],
   "source": [
    "bs=30         #Setting batch size\n",
    "train_dir = \"/home/itish/Downloads/voogle/train\"   #Setting training directory\n",
    "validation_dir = \"/home/itish/Downloads/voogle/train\"   #Setting testing directory\n",
    "from tensorflow.keras.preprocessing.image import ImageDataGenerator \n",
    "# All images will be rescaled by 1./255.\n",
    "train_datagen = ImageDataGenerator( rescale = 1.0/255. )\n",
    "test_datagen  = ImageDataGenerator( rescale = 1.0/255. )\n",
    "# Flow training images in batches of 20 using train_datagen generator\n",
    "#Flow_from_directory function lets the classifier directly identify the labels from the name of the directories the image lies in\n",
    "train_generator=train_datagen.flow_from_directory(train_dir,batch_size=bs,class_mode='categorical',target_size=(180,180))\n",
    "# Flow validation images in batches of 20 using test_datagen generator\n",
    "validation_generator =  test_datagen.flow_from_directory(validation_dir,\n",
    "                                                         batch_size=bs,\n",
    "                                                         class_mode  = 'categorical',\n",
    "                                                         target_size=(180,180))"
   ]
  },
  {
   "cell_type": "code",
   "execution_count": 6,
   "id": "6213d45f",
   "metadata": {
    "scrolled": false
   },
   "outputs": [
    {
     "name": "stdout",
     "output_type": "stream",
     "text": [
      "Epoch 1/10\n",
      "5/5 - 4s - loss: 1.9361 - acc: 0.1377 - val_loss: 1.8542 - val_acc: 0.0667 - 4s/epoch - 779ms/step\n",
      "Epoch 2/10\n",
      "5/5 - 5s - loss: 1.7572 - acc: 0.3623 - val_loss: 1.1046 - val_acc: 0.8000 - 5s/epoch - 1s/step\n",
      "Epoch 3/10\n",
      "5/5 - 5s - loss: 1.1960 - acc: 0.5435 - val_loss: 0.3699 - val_acc: 0.9667 - 5s/epoch - 982ms/step\n",
      "Epoch 4/10\n",
      "5/5 - 5s - loss: 0.6224 - acc: 0.8261 - val_loss: 0.0510 - val_acc: 1.0000 - 5s/epoch - 1s/step\n",
      "Epoch 5/10\n",
      "5/5 - 4s - loss: 0.1314 - acc: 0.9565 - val_loss: 0.0022 - val_acc: 1.0000 - 4s/epoch - 891ms/step\n",
      "Epoch 6/10\n",
      "5/5 - 2s - loss: 0.0834 - acc: 0.9710 - val_loss: 0.0026 - val_acc: 1.0000 - 2s/epoch - 456ms/step\n",
      "Epoch 7/10\n",
      "5/5 - 2s - loss: 0.0243 - acc: 0.9933 - val_loss: 0.0070 - val_acc: 1.0000 - 2s/epoch - 488ms/step\n",
      "Epoch 8/10\n",
      "5/5 - 2s - loss: 0.0267 - acc: 0.9928 - val_loss: 3.2918e-05 - val_acc: 1.0000 - 2s/epoch - 476ms/step\n",
      "Epoch 9/10\n",
      "5/5 - 4s - loss: 0.0044 - acc: 1.0000 - val_loss: 3.0300e-05 - val_acc: 1.0000 - 4s/epoch - 825ms/step\n",
      "Epoch 10/10\n",
      "5/5 - 5s - loss: 0.0069 - acc: 1.0000 - val_loss: 1.0451e-06 - val_acc: 1.0000 - 5s/epoch - 992ms/step\n"
     ]
    }
   ],
   "source": [
    "history = model.fit(train_generator,\n",
    "                    validation_data=validation_generator,\n",
    "                    steps_per_epoch=150 // bs,\n",
    "                    epochs=10,\n",
    "                    validation_steps=50 // bs,\n",
    "                    verbose=2)"
   ]
  },
  {
   "cell_type": "code",
   "execution_count": 7,
   "id": "6780a4e6",
   "metadata": {},
   "outputs": [
    {
     "name": "stdout",
     "output_type": "stream",
     "text": [
      "Saved model to disk\n"
     ]
    }
   ],
   "source": [
    "model.save(\"skyfall.h5\")\n",
    "print(\"Saved model to disk\")"
   ]
  },
  {
   "cell_type": "code",
   "execution_count": 9,
   "id": "2823b1ad",
   "metadata": {},
   "outputs": [],
   "source": [
    "file1 = open('labels.txt', 'r')\n",
    "Lines = file1.read().splitlines()\n",
    "classes = []\n",
    "for l in Lines:\n",
    "    classes.append(l)"
   ]
  },
  {
   "cell_type": "code",
   "execution_count": 11,
   "id": "8158035e",
   "metadata": {},
   "outputs": [],
   "source": [
    "#to predict new images \n",
    "def predict_image(imagepath, classifier):\n",
    "    predict = load_img(imagepath, target_size = (180, 180))   \n",
    "    predict_modified = img_to_array(predict)\n",
    "    predict_modified = predict_modified / 255\n",
    "    predict_modified = np.expand_dims(predict_modified, axis = 0)\n",
    "    result = classifier.predict(predict_modified)\n",
    "    MaxPosition=np.argmax(result)  \n",
    "    prediction_label=classes[MaxPosition]\n",
    "    return prediction_label"
   ]
  },
  {
   "cell_type": "code",
   "execution_count": 12,
   "id": "bc0ace18",
   "metadata": {},
   "outputs": [
    {
     "name": "stdout",
     "output_type": "stream",
     "text": [
      "1/1 [==============================] - 0s 105ms/step\n"
     ]
    },
    {
     "data": {
      "text/plain": [
       "'Skyfall__00:02:20_bottle'"
      ]
     },
     "execution_count": 12,
     "metadata": {},
     "output_type": "execute_result"
    }
   ],
   "source": [
    "from tensorflow.keras.utils import load_img\n",
    "from tensorflow.keras.utils import img_to_array\n",
    "predict_image('/home/itish/Downloads/voogle/test.jpg',model)"
   ]
  },
  {
   "cell_type": "code",
   "execution_count": null,
   "id": "706cdf2c",
   "metadata": {},
   "outputs": [],
   "source": []
  },
  {
   "cell_type": "code",
   "execution_count": null,
   "id": "8b08d9a8",
   "metadata": {},
   "outputs": [],
   "source": []
  }
 ],
 "metadata": {
  "kernelspec": {
   "display_name": "Python 3 (ipykernel)",
   "language": "python",
   "name": "python3"
  },
  "language_info": {
   "codemirror_mode": {
    "name": "ipython",
    "version": 3
   },
   "file_extension": ".py",
   "mimetype": "text/x-python",
   "name": "python",
   "nbconvert_exporter": "python",
   "pygments_lexer": "ipython3",
   "version": "3.10.6"
  }
 },
 "nbformat": 4,
 "nbformat_minor": 5
}
