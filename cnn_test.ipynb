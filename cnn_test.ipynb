{
 "cells": [
  {
   "cell_type": "code",
   "execution_count": 1,
   "id": "5c46445e",
   "metadata": {},
   "outputs": [
    {
     "name": "stderr",
     "output_type": "stream",
     "text": [
      "2022-11-22 13:06:57.804745: I tensorflow/core/platform/cpu_feature_guard.cc:193] This TensorFlow binary is optimized with oneAPI Deep Neural Network Library (oneDNN) to use the following CPU instructions in performance-critical operations:  AVX2 FMA\n",
      "To enable them in other operations, rebuild TensorFlow with the appropriate compiler flags.\n",
      "2022-11-22 13:07:01.834630: E tensorflow/stream_executor/cuda/cuda_blas.cc:2981] Unable to register cuBLAS factory: Attempting to register factory for plugin cuBLAS when one has already been registered\n",
      "2022-11-22 13:07:11.329746: W tensorflow/stream_executor/platform/default/dso_loader.cc:64] Could not load dynamic library 'libnvinfer.so.7'; dlerror: libnvinfer.so.7: cannot open shared object file: No such file or directory\n",
      "2022-11-22 13:07:11.329993: W tensorflow/stream_executor/platform/default/dso_loader.cc:64] Could not load dynamic library 'libnvinfer_plugin.so.7'; dlerror: libnvinfer_plugin.so.7: cannot open shared object file: No such file or directory\n",
      "2022-11-22 13:07:11.330018: W tensorflow/compiler/tf2tensorrt/utils/py_utils.cc:38] TF-TRT Warning: Cannot dlopen some TensorRT libraries. If you would like to use Nvidia GPU with TensorRT, please make sure the missing libraries mentioned above are installed properly.\n",
      "2022-11-22 13:07:29.471355: E tensorflow/stream_executor/cuda/cuda_driver.cc:265] failed call to cuInit: CUDA_ERROR_NO_DEVICE: no CUDA-capable device is detected\n",
      "2022-11-22 13:07:29.471406: I tensorflow/stream_executor/cuda/cuda_diagnostics.cc:156] kernel driver does not appear to be running on this host (itish-HP-Pavilion-Gaming-Laptop-15-dk1xxx): /proc/driver/nvidia/version does not exist\n",
      "2022-11-22 13:07:29.485649: I tensorflow/core/platform/cpu_feature_guard.cc:193] This TensorFlow binary is optimized with oneAPI Deep Neural Network Library (oneDNN) to use the following CPU instructions in performance-critical operations:  AVX2 FMA\n",
      "To enable them in other operations, rebuild TensorFlow with the appropriate compiler flags.\n",
      "2022-11-22 13:07:31.270724: W tensorflow/core/framework/cpu_allocator_impl.cc:82] Allocation of 22809600 exceeds 10% of free system memory.\n",
      "2022-11-22 13:07:31.299646: W tensorflow/core/framework/cpu_allocator_impl.cc:82] Allocation of 22809600 exceeds 10% of free system memory.\n",
      "2022-11-22 13:07:31.312888: W tensorflow/core/framework/cpu_allocator_impl.cc:82] Allocation of 22809600 exceeds 10% of free system memory.\n",
      "2022-11-22 13:07:32.342478: W tensorflow/core/framework/cpu_allocator_impl.cc:82] Allocation of 22809600 exceeds 10% of free system memory.\n",
      "2022-11-22 13:07:32.735116: W tensorflow/core/framework/cpu_allocator_impl.cc:82] Allocation of 22809600 exceeds 10% of free system memory.\n"
     ]
    }
   ],
   "source": [
    "from tensorflow import keras\n",
    "model = keras.models.load_model('skyfall.h5')"
   ]
  },
  {
   "cell_type": "code",
   "execution_count": 2,
   "id": "cf2c3604",
   "metadata": {},
   "outputs": [],
   "source": [
    "file1 = open('labels.txt', 'r')\n",
    "Lines = file1.read().splitlines()\n",
    "classes = []\n",
    "for l in Lines:\n",
    "    classes.append(l)"
   ]
  },
  {
   "cell_type": "code",
   "execution_count": 3,
   "id": "5808a32a",
   "metadata": {},
   "outputs": [],
   "source": [
    "#to predict new images \n",
    "def predict_image(imagepath, classifier):\n",
    "    predict = load_img(imagepath, target_size = (180, 180))   \n",
    "    predict_modified = img_to_array(predict)\n",
    "    predict_modified = predict_modified / 255\n",
    "    predict_modified = np.expand_dims(predict_modified, axis = 0)\n",
    "    result = classifier.predict(predict_modified)\n",
    "    MaxPosition=np.argmax(result)  \n",
    "    prediction_label=classes[MaxPosition]\n",
    "    return prediction_label"
   ]
  },
  {
   "cell_type": "code",
   "execution_count": 5,
   "id": "c445b397",
   "metadata": {},
   "outputs": [
    {
     "name": "stdout",
     "output_type": "stream",
     "text": [
      "1/1 [==============================] - 1s 1s/step\n"
     ]
    },
    {
     "data": {
      "text/plain": [
       "'Skyfall__00:02:20_bottle'"
      ]
     },
     "execution_count": 5,
     "metadata": {},
     "output_type": "execute_result"
    }
   ],
   "source": [
    "from tensorflow.keras.utils import load_img\n",
    "import numpy as np\n",
    "from tensorflow.keras.utils import img_to_array\n",
    "predict_image('/home/itish/Downloads/voogle/test.jpg',model)"
   ]
  },
  {
   "cell_type": "code",
   "execution_count": null,
   "id": "2a49252f",
   "metadata": {},
   "outputs": [],
   "source": []
  }
 ],
 "metadata": {
  "kernelspec": {
   "display_name": "Python 3 (ipykernel)",
   "language": "python",
   "name": "python3"
  },
  "language_info": {
   "codemirror_mode": {
    "name": "ipython",
    "version": 3
   },
   "file_extension": ".py",
   "mimetype": "text/x-python",
   "name": "python",
   "nbconvert_exporter": "python",
   "pygments_lexer": "ipython3",
   "version": "3.9.13"
  }
 },
 "nbformat": 4,
 "nbformat_minor": 5
}
